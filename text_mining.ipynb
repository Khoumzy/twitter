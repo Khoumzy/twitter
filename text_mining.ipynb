{
 "cells": [
  {
   "cell_type": "markdown",
   "metadata": {},
   "source": [
    "#                                                       Text Mining\n",
    "\n",
    "#### We will analyze from data retrieved on Twitter through its Streaming API what is the most used buzzword in computer science currently on Twitter. <br>[ Data science, Machine learning, Deep Learning, Artificial Intelligence, Blockchain ]\n",
    "\n",
    "Getting the data twitter : twitter_streaming.py\n",
    "\n",
    "In this notebook we are going to read the data try to achieve our main goal.\n",
    "We will do it by following this steps :\n",
    "+ *Store our tweet in JSON format*\n",
    "+ *Retrieve the text content of our tweet*\n",
    "+ *Use DataFrame to manipulate our data*\n",
    "+ *Visualize data*"
   ]
  },
  {
   "cell_type": "code",
   "execution_count": 1,
   "metadata": {},
   "outputs": [],
   "source": [
    "# Import libraries\n",
    "\n",
    "import re\n",
    "import matplotlib.pyplot as plt\n",
    "import pandas as pd\n",
    "import numpy as np\n",
    "import json"
   ]
  },
  {
   "cell_type": "code",
   "execution_count": 21,
   "metadata": {},
   "outputs": [],
   "source": [
    "# Function used to search a keyword in one tweet\n",
    "\n",
    "def is_in(keyword, tweet):\n",
    "    keyword = keyword.lower()\n",
    "    tweet = tweet.lower()\n",
    "    match = re.search(keyword, tweet)\n",
    "    if match:\n",
    "        return True\n",
    "    return False\n",
    "\n",
    "# Formatting \n",
    "def nice_format(pct, allvals):\n",
    "    return \"{:.1f} %\".format(pct)"
   ]
  },
  {
   "cell_type": "code",
   "execution_count": 3,
   "metadata": {},
   "outputs": [],
   "source": [
    "# Read file\n",
    "\n",
    "tweets_data_path = 'dataset/datas.txt'\n",
    "tweets_data = []\n",
    "tweets_file = open(tweets_data_path, \"r\")"
   ]
  },
  {
   "cell_type": "code",
   "execution_count": 4,
   "metadata": {},
   "outputs": [],
   "source": [
    "# Retrieve data and push it in tweets_data\n",
    "\n",
    "for tweet in tweets_file:\n",
    "    try:\n",
    "        tweets_data.append(json.loads(tweet))\n",
    "    except:\n",
    "        continue\n",
    "        "
   ]
  },
  {
   "cell_type": "code",
   "execution_count": 5,
   "metadata": {},
   "outputs": [],
   "source": [
    "# In one tweet we can find many informations linked to this tweet such as id, text, geo, entities ...\n",
    "\n",
    "#print(tweets_data[0].keys())\n"
   ]
  },
  {
   "cell_type": "code",
   "execution_count": 23,
   "metadata": {},
   "outputs": [],
   "source": [
    "# We are going to retrieve the text \n",
    "\n",
    "number_tweet = len(tweets_data)\n",
    "\n",
    "tweets_text = []\n",
    "\n",
    "for i in range(number_tweet):\n",
    "\n",
    "    tweets_text.append(tweets_data[i][\"text\"])\n",
    "          \n",
    "    pass\n",
    "    "
   ]
  },
  {
   "cell_type": "code",
   "execution_count": 45,
   "metadata": {},
   "outputs": [],
   "source": [
    "# Create list\n",
    "\n",
    "data_science = []\n",
    "machine_learning = []\n",
    "deep_learning = []\n",
    "ai = []\n",
    "blockchain = []"
   ]
  },
  {
   "cell_type": "code",
   "execution_count": 46,
   "metadata": {},
   "outputs": [],
   "source": [
    "# Fill out our list\n",
    "\n",
    "for i in range(number_tweet):\n",
    "    \n",
    "    data_science.append(is_in('data science',tweets_text[i]) or is_in('datascience',tweets_text[i]))\n",
    "    \n",
    "    machine_learning.append(is_in('machine learning',tweets_text[i]) or is_in('machinelearning',tweets_text[i]))\n",
    "    \n",
    "    deep_learning.append(is_in('deep learning',tweets_text[i]) or is_in('deeplearning',tweets_text[i]))\n",
    "    \n",
    "    ai.append(is_in('artificial intelligence',tweets_text[i]) or is_in('artificialintelligence',tweets_text[i]))\n",
    "    \n",
    "    blockchain.append(is_in('blockchain',tweets_text[i]))"
   ]
  },
  {
   "cell_type": "code",
   "execution_count": 47,
   "metadata": {},
   "outputs": [],
   "source": [
    "# We are going to use DataFrame for alyzing data so we have to create a dict\n",
    "\n",
    "items = [\"data science\", \"machine learning\", \"deep learning\", \"ai\", \"blockchain\"]\n",
    "\n",
    "values = [data_science,machine_learning,deep_learning,ai,blockchain]\n",
    "\n",
    "\n",
    "data = dict(zip(items,values))\n",
    "\n",
    "\n",
    "tweet = pd.DataFrame(data)\n"
   ]
  },
  {
   "cell_type": "code",
   "execution_count": 48,
   "metadata": {},
   "outputs": [
    {
     "data": {
      "image/png": "[encoded data removed]",
      "text/plain": [
       "<Figure size 864x432 with 1 Axes>"
      ]
     },
     "metadata": {},
     "output_type": "display_data"
    }
   ],
   "source": [
    "# Graph\n",
    "\n",
    "\n",
    "tweets_by_prg_lang = [    \n",
    "                          tweet['data science'].value_counts()[True], \n",
    "                          tweet['machine learning'].value_counts()[True], \n",
    "                          tweet['deep learning'].value_counts()[True],\n",
    "                          tweet['ai'].value_counts()[True],\n",
    "                          tweet['blockchain'].value_counts()[True],                   \n",
    "                     ]\n",
    "\n",
    "fig, ax = plt.subplots(figsize=(12, 6), subplot_kw=dict(aspect=\"equal\"))\n",
    "\n",
    "\n",
    "wedges, texts, autotexts = ax.pie(tweets_by_prg_lang, autopct=lambda pct: nice_format(pct, tweets_by_prg_lang),\n",
    "                                  textprops=dict(color=\"w\"))\n",
    "\n",
    "ax.legend(wedges, items,\n",
    "          title=\"Key words\",\n",
    "          loc=\"center left\",\n",
    "          bbox_to_anchor=(1, 0, 0.5, 1))\n",
    "\n",
    "plt.setp(autotexts, size=10, weight=\"bold\")\n",
    "\n",
    "ax.set_title(\"\")\n",
    "\n",
    "plt.show()\n"
   ]
  },
  {
   "cell_type": "code",
   "execution_count": 41,
   "metadata": {},
   "outputs": [
    {
     "data": {
      "text/html": [
       "<div>\n",
       "<style scoped>\n",
       "    .dataframe tbody tr th:only-of-type {\n",
       "        vertical-align: middle;\n",
       "    }\n",
       "\n",
       "    .dataframe tbody tr th {\n",
       "        vertical-align: top;\n",
       "    }\n",
       "\n",
       "    .dataframe thead th {\n",
       "        text-align: right;\n",
       "    }\n",
       "</style>\n",
       "<table border=\"1\" class=\"dataframe\">\n",
       "  <thead>\n",
       "    <tr style=\"text-align: right;\">\n",
       "      <th></th>\n",
       "      <th>data science</th>\n",
       "      <th>machine learning</th>\n",
       "      <th>deep learning</th>\n",
       "      <th>ai</th>\n",
       "      <th>blockchain</th>\n",
       "    </tr>\n",
       "  </thead>\n",
       "  <tbody>\n",
       "    <tr>\n",
       "      <th>0</th>\n",
       "      <td>False</td>\n",
       "      <td>False</td>\n",
       "      <td>False</td>\n",
       "      <td>False</td>\n",
       "      <td>False</td>\n",
       "    </tr>\n",
       "    <tr>\n",
       "      <th>3</th>\n",
       "      <td>False</td>\n",
       "      <td>False</td>\n",
       "      <td>False</td>\n",
       "      <td>False</td>\n",
       "      <td>False</td>\n",
       "    </tr>\n",
       "    <tr>\n",
       "      <th>5</th>\n",
       "      <td>False</td>\n",
       "      <td>False</td>\n",
       "      <td>False</td>\n",
       "      <td>False</td>\n",
       "      <td>False</td>\n",
       "    </tr>\n",
       "    <tr>\n",
       "      <th>7</th>\n",
       "      <td>False</td>\n",
       "      <td>False</td>\n",
       "      <td>False</td>\n",
       "      <td>False</td>\n",
       "      <td>False</td>\n",
       "    </tr>\n",
       "    <tr>\n",
       "      <th>8</th>\n",
       "      <td>False</td>\n",
       "      <td>False</td>\n",
       "      <td>False</td>\n",
       "      <td>False</td>\n",
       "      <td>False</td>\n",
       "    </tr>\n",
       "  </tbody>\n",
       "</table>\n",
       "</div>"
      ],
      "text/plain": [
       "   data science  machine learning  deep learning     ai  blockchain\n",
       "0         False             False          False  False       False\n",
       "3         False             False          False  False       False\n",
       "5         False             False          False  False       False\n",
       "7         False             False          False  False       False\n",
       "8         False             False          False  False       False"
      ]
     },
     "execution_count": 41,
     "metadata": {},
     "output_type": "execute_result"
    }
   ],
   "source": [
    "# Apply filter to check if our dataset is coherent\n",
    "\n",
    "mask = (tweet[\"data science\"] == 0) & (tweet[\"machine learning\"] == 0) & (tweet[\"deep learning\"] == 0) & (tweet[\"ai\"] == 0) & (tweet[\"blockchain\"] == 0)\n",
    "\n",
    "tweet[mask].head()\n",
    "\n",
    "#print(len(tweet[mask]))"
   ]
  },
  {
   "cell_type": "code",
   "execution_count": 44,
   "metadata": {},
   "outputs": [],
   "source": [
    "# We have 18.925 lines in our dataframe that hold no relevant informations.\n",
    "# We will add a new parameter : extended_tweet\n",
    "\n",
    "#  text and extended_tweet\n",
    "\n",
    "tweets_text = []\n",
    "\n",
    "for i in range(number_tweet):\n",
    "    \n",
    "    try:        \n",
    "        tweets_text.append(tweets_data[i][\"extended_tweet\"][\"full_text\"]) #Modif\n",
    "    except:\n",
    "        tweets_text.append(tweets_data[i][\"text\"])\n",
    "          \n",
    "    pass\n",
    "\n",
    "\n",
    "# Run this cell and go to cell ** Create List ** run it and cells below to see the modifications"
   ]
  }
 ],
 "metadata": {
  "kernelspec": {
   "display_name": "Python 3",
   "language": "python",
   "name": "python3"
  },
  "language_info": {
   "codemirror_mode": {
    "name": "ipython",
    "version": 3
   },
   "file_extension": ".py",
   "mimetype": "text/x-python",
   "name": "python",
   "nbconvert_exporter": "python",
   "pygments_lexer": "ipython3",
   "version": "3.6.5"
  }
 },
 "nbformat": 4,
 "nbformat_minor": 2
}
